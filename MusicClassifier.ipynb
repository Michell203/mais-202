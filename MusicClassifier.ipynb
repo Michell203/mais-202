{
  "nbformat": 4,
  "nbformat_minor": 0,
  "metadata": {
    "colab": {
      "provenance": [],
      "include_colab_link": true
    },
    "kernelspec": {
      "name": "python3",
      "display_name": "Python 3"
    },
    "language_info": {
      "name": "python"
    }
  },
  "cells": [
    {
      "cell_type": "markdown",
      "metadata": {
        "id": "view-in-github",
        "colab_type": "text"
      },
      "source": [
        "<a href=\"https://colab.research.google.com/github/Michell203/mais-202/blob/main/MusicClassifier.ipynb\" target=\"_parent\"><img src=\"https://colab.research.google.com/assets/colab-badge.svg\" alt=\"Open In Colab\"/></a>"
      ]
    },
    {
      "cell_type": "code",
      "execution_count": 1,
      "metadata": {
        "id": "nb2xfyhSNPoe",
        "colab": {
          "base_uri": "https://localhost:8080/"
        },
        "outputId": "152bcba4-a0c0-41b6-b427-def2eeebcdda"
      },
      "outputs": [
        {
          "output_type": "stream",
          "name": "stdout",
          "text": [
            "Mounted at /content/drive\n"
          ]
        }
      ],
      "source": [
        "# Libraries\n",
        "import numpy as np\n",
        "import matplotlib.pyplot as plt\n",
        "import pandas as pd\n",
        "import math\n",
        "import json\n",
        "import os\n",
        "from glob import glob # allows us to list all files to a directory\n",
        "import IPython\n",
        "import IPython.display as ipd # to play the Audio Files\n",
        "\n",
        "import librosa # main package for working with Audio Data\n",
        "import librosa.display\n",
        "\n",
        "from google.colab import drive\n",
        "drive.mount('/content/drive')"
      ]
    },
    {
      "cell_type": "code",
      "source": [
        "audio_files = glob(\"/kaggle/input/gtzan-dataset-music-genre-classification/Data/genres_original/*/*.wav\") #list of all wav files in data set\n",
        "# samplerate = 22050\n",
        "# sampletrack = samplerate * 30\n",
        "\n",
        "data_frame = pd.read_csv()\n",
        "data_frame.drop('filename',axis=1) #drop filename \n",
        "class_list = data_frame.iloc[:-1]\n",
        "\n"
      ],
      "metadata": {
        "id": "6iDXrr-IOI2E"
      },
      "execution_count": null,
      "outputs": []
    }
  ]
}